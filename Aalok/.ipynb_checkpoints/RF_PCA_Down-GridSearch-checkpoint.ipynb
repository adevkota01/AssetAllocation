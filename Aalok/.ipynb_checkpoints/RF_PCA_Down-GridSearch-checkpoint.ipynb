{
 "cells": [
  {
   "cell_type": "code",
   "execution_count": 1,
   "metadata": {},
   "outputs": [],
   "source": [
    "import pandas as pd\n",
    "from sklearn.ensemble import RandomForestClassifier\n",
    "import numpy as np\n",
    "import matplotlib.pyplot as plt\n",
    "\n",
    "import datetime\n",
    "\n",
    "plt.style.use('fivethirtyeight')"
   ]
  },
  {
   "cell_type": "code",
   "execution_count": 2,
   "metadata": {},
   "outputs": [
    {
     "data": {
      "text/html": [
       "<div>\n",
       "<style scoped>\n",
       "    .dataframe tbody tr th:only-of-type {\n",
       "        vertical-align: middle;\n",
       "    }\n",
       "\n",
       "    .dataframe tbody tr th {\n",
       "        vertical-align: top;\n",
       "    }\n",
       "\n",
       "    .dataframe thead th {\n",
       "        text-align: right;\n",
       "    }\n",
       "</style>\n",
       "<table border=\"1\" class=\"dataframe\">\n",
       "  <thead>\n",
       "    <tr style=\"text-align: right;\">\n",
       "      <th></th>\n",
       "      <th>Date</th>\n",
       "      <th>XLF</th>\n",
       "      <th>XLK</th>\n",
       "      <th>XLI</th>\n",
       "      <th>HY</th>\n",
       "      <th>XLY</th>\n",
       "      <th>XLU</th>\n",
       "      <th>XLP</th>\n",
       "      <th>SPY</th>\n",
       "      <th>VBMFX</th>\n",
       "      <th>Target_FR12Mts</th>\n",
       "    </tr>\n",
       "  </thead>\n",
       "  <tbody>\n",
       "    <tr>\n",
       "      <td>0</td>\n",
       "      <td>12/1/1998</td>\n",
       "      <td>19.039398</td>\n",
       "      <td>32.62500</td>\n",
       "      <td>24.562500</td>\n",
       "      <td>6.44</td>\n",
       "      <td>26.125000</td>\n",
       "      <td>30.234375</td>\n",
       "      <td>27.156250</td>\n",
       "      <td>123.31250</td>\n",
       "      <td>10.27</td>\n",
       "      <td>0.19</td>\n",
       "    </tr>\n",
       "    <tr>\n",
       "      <td>1</td>\n",
       "      <td>1/1/1999</td>\n",
       "      <td>19.369415</td>\n",
       "      <td>37.81250</td>\n",
       "      <td>24.296875</td>\n",
       "      <td>6.52</td>\n",
       "      <td>27.468750</td>\n",
       "      <td>29.484375</td>\n",
       "      <td>26.796875</td>\n",
       "      <td>127.65625</td>\n",
       "      <td>10.30</td>\n",
       "      <td>0.09</td>\n",
       "    </tr>\n",
       "    <tr>\n",
       "      <td>2</td>\n",
       "      <td>2/1/1999</td>\n",
       "      <td>19.674046</td>\n",
       "      <td>34.06250</td>\n",
       "      <td>24.515625</td>\n",
       "      <td>6.46</td>\n",
       "      <td>27.296875</td>\n",
       "      <td>28.671875</td>\n",
       "      <td>26.515625</td>\n",
       "      <td>123.56250</td>\n",
       "      <td>10.07</td>\n",
       "      <td>0.11</td>\n",
       "    </tr>\n",
       "    <tr>\n",
       "      <td>3</td>\n",
       "      <td>3/1/1999</td>\n",
       "      <td>20.257921</td>\n",
       "      <td>36.59375</td>\n",
       "      <td>24.937500</td>\n",
       "      <td>6.57</td>\n",
       "      <td>28.593750</td>\n",
       "      <td>26.687500</td>\n",
       "      <td>26.437500</td>\n",
       "      <td>128.37500</td>\n",
       "      <td>10.06</td>\n",
       "      <td>0.17</td>\n",
       "    </tr>\n",
       "    <tr>\n",
       "      <td>4</td>\n",
       "      <td>4/1/1999</td>\n",
       "      <td>21.679529</td>\n",
       "      <td>36.81250</td>\n",
       "      <td>28.687500</td>\n",
       "      <td>6.80</td>\n",
       "      <td>29.343750</td>\n",
       "      <td>29.265625</td>\n",
       "      <td>25.515625</td>\n",
       "      <td>133.25000</td>\n",
       "      <td>10.05</td>\n",
       "      <td>0.09</td>\n",
       "    </tr>\n",
       "  </tbody>\n",
       "</table>\n",
       "</div>"
      ],
      "text/plain": [
       "        Date        XLF       XLK        XLI    HY        XLY        XLU  \\\n",
       "0  12/1/1998  19.039398  32.62500  24.562500  6.44  26.125000  30.234375   \n",
       "1   1/1/1999  19.369415  37.81250  24.296875  6.52  27.468750  29.484375   \n",
       "2   2/1/1999  19.674046  34.06250  24.515625  6.46  27.296875  28.671875   \n",
       "3   3/1/1999  20.257921  36.59375  24.937500  6.57  28.593750  26.687500   \n",
       "4   4/1/1999  21.679529  36.81250  28.687500  6.80  29.343750  29.265625   \n",
       "\n",
       "         XLP        SPY  VBMFX  Target_FR12Mts  \n",
       "0  27.156250  123.31250  10.27            0.19  \n",
       "1  26.796875  127.65625  10.30            0.09  \n",
       "2  26.515625  123.56250  10.07            0.11  \n",
       "3  26.437500  128.37500  10.06            0.17  \n",
       "4  25.515625  133.25000  10.05            0.09  "
      ]
     },
     "execution_count": 2,
     "metadata": {},
     "output_type": "execute_result"
    }
   ],
   "source": [
    "dataset = pd.read_csv('data/DataForClustering.csv')\n",
    "dataset.head()\n"
   ]
  },
  {
   "cell_type": "code",
   "execution_count": 3,
   "metadata": {},
   "outputs": [
    {
     "data": {
      "text/html": [
       "<div>\n",
       "<style scoped>\n",
       "    .dataframe tbody tr th:only-of-type {\n",
       "        vertical-align: middle;\n",
       "    }\n",
       "\n",
       "    .dataframe tbody tr th {\n",
       "        vertical-align: top;\n",
       "    }\n",
       "\n",
       "    .dataframe thead th {\n",
       "        text-align: right;\n",
       "    }\n",
       "</style>\n",
       "<table border=\"1\" class=\"dataframe\">\n",
       "  <thead>\n",
       "    <tr style=\"text-align: right;\">\n",
       "      <th></th>\n",
       "      <th>Date</th>\n",
       "      <th>XLF</th>\n",
       "      <th>XLK</th>\n",
       "      <th>XLI</th>\n",
       "      <th>HY</th>\n",
       "      <th>XLY</th>\n",
       "      <th>XLU</th>\n",
       "      <th>XLP</th>\n",
       "      <th>SPY</th>\n",
       "      <th>VBMFX</th>\n",
       "      <th>Target_FR12Mts</th>\n",
       "      <th>Class</th>\n",
       "    </tr>\n",
       "  </thead>\n",
       "  <tbody>\n",
       "    <tr>\n",
       "      <td>0</td>\n",
       "      <td>12/1/1998</td>\n",
       "      <td>19.039398</td>\n",
       "      <td>32.62500</td>\n",
       "      <td>24.562500</td>\n",
       "      <td>6.44</td>\n",
       "      <td>26.125000</td>\n",
       "      <td>30.234375</td>\n",
       "      <td>27.156250</td>\n",
       "      <td>123.31250</td>\n",
       "      <td>10.27</td>\n",
       "      <td>0.19</td>\n",
       "      <td>0</td>\n",
       "    </tr>\n",
       "    <tr>\n",
       "      <td>1</td>\n",
       "      <td>1/1/1999</td>\n",
       "      <td>19.369415</td>\n",
       "      <td>37.81250</td>\n",
       "      <td>24.296875</td>\n",
       "      <td>6.52</td>\n",
       "      <td>27.468750</td>\n",
       "      <td>29.484375</td>\n",
       "      <td>26.796875</td>\n",
       "      <td>127.65625</td>\n",
       "      <td>10.30</td>\n",
       "      <td>0.09</td>\n",
       "      <td>0</td>\n",
       "    </tr>\n",
       "    <tr>\n",
       "      <td>2</td>\n",
       "      <td>2/1/1999</td>\n",
       "      <td>19.674046</td>\n",
       "      <td>34.06250</td>\n",
       "      <td>24.515625</td>\n",
       "      <td>6.46</td>\n",
       "      <td>27.296875</td>\n",
       "      <td>28.671875</td>\n",
       "      <td>26.515625</td>\n",
       "      <td>123.56250</td>\n",
       "      <td>10.07</td>\n",
       "      <td>0.11</td>\n",
       "      <td>0</td>\n",
       "    </tr>\n",
       "    <tr>\n",
       "      <td>3</td>\n",
       "      <td>3/1/1999</td>\n",
       "      <td>20.257921</td>\n",
       "      <td>36.59375</td>\n",
       "      <td>24.937500</td>\n",
       "      <td>6.57</td>\n",
       "      <td>28.593750</td>\n",
       "      <td>26.687500</td>\n",
       "      <td>26.437500</td>\n",
       "      <td>128.37500</td>\n",
       "      <td>10.06</td>\n",
       "      <td>0.17</td>\n",
       "      <td>0</td>\n",
       "    </tr>\n",
       "    <tr>\n",
       "      <td>4</td>\n",
       "      <td>4/1/1999</td>\n",
       "      <td>21.679529</td>\n",
       "      <td>36.81250</td>\n",
       "      <td>28.687500</td>\n",
       "      <td>6.80</td>\n",
       "      <td>29.343750</td>\n",
       "      <td>29.265625</td>\n",
       "      <td>25.515625</td>\n",
       "      <td>133.25000</td>\n",
       "      <td>10.05</td>\n",
       "      <td>0.09</td>\n",
       "      <td>0</td>\n",
       "    </tr>\n",
       "  </tbody>\n",
       "</table>\n",
       "</div>"
      ],
      "text/plain": [
       "        Date        XLF       XLK        XLI    HY        XLY        XLU  \\\n",
       "0  12/1/1998  19.039398  32.62500  24.562500  6.44  26.125000  30.234375   \n",
       "1   1/1/1999  19.369415  37.81250  24.296875  6.52  27.468750  29.484375   \n",
       "2   2/1/1999  19.674046  34.06250  24.515625  6.46  27.296875  28.671875   \n",
       "3   3/1/1999  20.257921  36.59375  24.937500  6.57  28.593750  26.687500   \n",
       "4   4/1/1999  21.679529  36.81250  28.687500  6.80  29.343750  29.265625   \n",
       "\n",
       "         XLP        SPY  VBMFX  Target_FR12Mts  Class  \n",
       "0  27.156250  123.31250  10.27            0.19      0  \n",
       "1  26.796875  127.65625  10.30            0.09      0  \n",
       "2  26.515625  123.56250  10.07            0.11      0  \n",
       "3  26.437500  128.37500  10.06            0.17      0  \n",
       "4  25.515625  133.25000  10.05            0.09      0  "
      ]
     },
     "execution_count": 3,
     "metadata": {},
     "output_type": "execute_result"
    }
   ],
   "source": [
    "dataset['Class'] = np.where(dataset['Target_FR12Mts'] < 0, 1, 0)\n",
    "dataset.head()"
   ]
  },
  {
   "cell_type": "code",
   "execution_count": null,
   "metadata": {},
   "outputs": [],
   "source": []
  },
  {
   "cell_type": "code",
   "execution_count": 4,
   "metadata": {},
   "outputs": [],
   "source": [
    "X = dataset.drop(['Date','XLI','XLK','Class'], 1)\n",
    "y = dataset['Class']"
   ]
  },
  {
   "cell_type": "code",
   "execution_count": null,
   "metadata": {},
   "outputs": [],
   "source": []
  },
  {
   "cell_type": "code",
   "execution_count": 5,
   "metadata": {},
   "outputs": [],
   "source": [
    "\n",
    "\n",
    "from sklearn import metrics\n",
    "from sklearn.model_selection import train_test_split\n",
    "\n",
    "X_train, X_test, y_train, y_test = train_test_split(X, y, test_size=0.3, random_state=42)"
   ]
  },
  {
   "cell_type": "code",
   "execution_count": 6,
   "metadata": {},
   "outputs": [
    {
     "name": "stdout",
     "output_type": "stream",
     "text": [
      "{'n_estimators': [200, 400, 600, 800, 1000, 1200, 1400, 1600, 1800, 2000], 'max_features': ['auto', 'sqrt'], 'max_depth': [10, 20, 30, 40, 50, 60, 70, 80, 90, 100, 110, None], 'min_samples_split': [2, 5, 10], 'min_samples_leaf': [1, 2, 4], 'bootstrap': [True, False]}\n"
     ]
    },
    {
     "data": {
      "text/plain": [
       "{'bootstrap': [True, False],\n",
       " 'max_depth': [10, 20, 30, 40, 50, 60, 70, 80, 90, 100, None],\n",
       " 'max_features': ['auto', 'sqrt'],\n",
       " 'min_samples_leaf': [1, 2, 4],\n",
       " 'min_samples_split': [2, 5, 10],\n",
       " 'n_estimators': [200, 400, 600, 800, 1000, 1200, 1400, 1600, 1800, 2000]}"
      ]
     },
     "execution_count": 6,
     "metadata": {},
     "output_type": "execute_result"
    }
   ],
   "source": [
    "from sklearn.model_selection import RandomizedSearchCV\n",
    "from sklearn.ensemble import RandomForestRegressor\n",
    "\n",
    "# Number of trees in random forest\n",
    "n_estimators = [int(x) for x in np.linspace(start = 200, stop = 2000, num = 10)]\n",
    "# Number of features to consider at every split\n",
    "max_features = ['auto', 'sqrt']\n",
    "# Maximum number of levels in tree\n",
    "max_depth = [int(x) for x in np.linspace(10, 110, num = 11)]\n",
    "max_depth.append(None)\n",
    "# Minimum number of samples required to split a node\n",
    "min_samples_split = [2, 5, 10]\n",
    "# Minimum number of samples required at each leaf node\n",
    "min_samples_leaf = [1, 2, 4]\n",
    "# Method of selecting samples for training each tree\n",
    "bootstrap = [True, False]\n",
    "# Create the random grid\n",
    "random_grid = {'n_estimators': n_estimators,\n",
    "               'max_features': max_features,\n",
    "               'max_depth': max_depth,\n",
    "               'min_samples_split': min_samples_split,\n",
    "               'min_samples_leaf': min_samples_leaf,\n",
    "               'bootstrap': bootstrap}\n",
    "print(random_grid)\n",
    "{'bootstrap': [True, False],\n",
    " 'max_depth': [10, 20, 30, 40, 50, 60, 70, 80, 90, 100, None],\n",
    " 'max_features': ['auto', 'sqrt'],\n",
    " 'min_samples_leaf': [1, 2, 4],\n",
    " 'min_samples_split': [2, 5, 10],\n",
    " 'n_estimators': [200, 400, 600, 800, 1000, 1200, 1400, 1600, 1800, 2000]}"
   ]
  },
  {
   "cell_type": "code",
   "execution_count": 7,
   "metadata": {},
   "outputs": [
    {
     "name": "stdout",
     "output_type": "stream",
     "text": [
      "Fitting 3 folds for each of 100 candidates, totalling 300 fits\n"
     ]
    },
    {
     "name": "stderr",
     "output_type": "stream",
     "text": [
      "[Parallel(n_jobs=-1)]: Using backend LokyBackend with 8 concurrent workers.\n",
      "[Parallel(n_jobs=-1)]: Done  25 tasks      | elapsed:    7.7s\n",
      "[Parallel(n_jobs=-1)]: Done 146 tasks      | elapsed:   27.7s\n",
      "[Parallel(n_jobs=-1)]: Done 300 out of 300 | elapsed:   58.4s finished\n",
      "C:\\Users\\Aalok Devkota\\Anaconda3\\lib\\site-packages\\sklearn\\model_selection\\_search.py:814: DeprecationWarning: The default of the `iid` parameter will change from True to False in version 0.22 and will be removed in 0.24. This will change numeric results when test-set sizes are unequal.\n",
      "  DeprecationWarning)\n"
     ]
    },
    {
     "data": {
      "text/plain": [
       "RandomizedSearchCV(cv=3, error_score='raise-deprecating',\n",
       "                   estimator=RandomForestClassifier(bootstrap=True,\n",
       "                                                    class_weight=None,\n",
       "                                                    criterion='gini',\n",
       "                                                    max_depth=None,\n",
       "                                                    max_features='auto',\n",
       "                                                    max_leaf_nodes=None,\n",
       "                                                    min_impurity_decrease=0.0,\n",
       "                                                    min_impurity_split=None,\n",
       "                                                    min_samples_leaf=1,\n",
       "                                                    min_samples_split=2,\n",
       "                                                    min_weight_fraction_leaf=0.0,\n",
       "                                                    n_estimators='warn',\n",
       "                                                    n_jobs=None,\n",
       "                                                    oob_sc...\n",
       "                   param_distributions={'bootstrap': [True, False],\n",
       "                                        'max_depth': [10, 20, 30, 40, 50, 60,\n",
       "                                                      70, 80, 90, 100, 110,\n",
       "                                                      None],\n",
       "                                        'max_features': ['auto', 'sqrt'],\n",
       "                                        'min_samples_leaf': [1, 2, 4],\n",
       "                                        'min_samples_split': [2, 5, 10],\n",
       "                                        'n_estimators': [200, 400, 600, 800,\n",
       "                                                         1000, 1200, 1400, 1600,\n",
       "                                                         1800, 2000]},\n",
       "                   pre_dispatch='2*n_jobs', random_state=42, refit=True,\n",
       "                   return_train_score=False, scoring=None, verbose=2)"
      ]
     },
     "execution_count": 7,
     "metadata": {},
     "output_type": "execute_result"
    }
   ],
   "source": [
    "# Use the random grid to search for best hyperparameters\n",
    "# First create the base model to tune\n",
    "rf = RandomForestClassifier()\n",
    "# Random search of parameters, using 3 fold cross validation, \n",
    "# search across 100 different combinations, and use all available cores\n",
    "rf_random = RandomizedSearchCV(estimator = rf, param_distributions = random_grid, n_iter = 100, cv = 3, verbose=2, random_state=42, n_jobs = -1)\n",
    "# Fit the random search model\n",
    "rf_random.fit(X_train, y_train)"
   ]
  },
  {
   "cell_type": "code",
   "execution_count": 8,
   "metadata": {},
   "outputs": [
    {
     "name": "stdout",
     "output_type": "stream",
     "text": [
      "{'n_estimators': 200, 'min_samples_split': 2, 'min_samples_leaf': 1, 'max_features': 'sqrt', 'max_depth': 50, 'bootstrap': True}\n"
     ]
    }
   ],
   "source": [
    "print(rf_random.best_params_)"
   ]
  },
  {
   "cell_type": "code",
   "execution_count": 9,
   "metadata": {},
   "outputs": [
    {
     "name": "stdout",
     "output_type": "stream",
     "text": [
      "0.9940476190476191\n"
     ]
    }
   ],
   "source": [
    "print(rf_random.best_score_)"
   ]
  },
  {
   "cell_type": "code",
   "execution_count": 10,
   "metadata": {},
   "outputs": [],
   "source": [
    "y_pred = rf_random.predict(X_test)"
   ]
  },
  {
   "cell_type": "code",
   "execution_count": 11,
   "metadata": {},
   "outputs": [
    {
     "name": "stdout",
     "output_type": "stream",
     "text": [
      "[[50  0]\n",
      " [ 0 23]]\n"
     ]
    }
   ],
   "source": [
    "from sklearn.metrics import confusion_matrix\n",
    "y_pred = rf_random.predict(X_test)\n",
    "import numpy as np\n",
    "cm = confusion_matrix(y_test, y_pred)\n",
    "print(cm)\n"
   ]
  },
  {
   "cell_type": "code",
   "execution_count": 12,
   "metadata": {},
   "outputs": [
    {
     "name": "stdout",
     "output_type": "stream",
     "text": [
      "              precision    recall  f1-score   support\n",
      "\n",
      "           0       1.00      1.00      1.00        50\n",
      "           1       1.00      1.00      1.00        23\n",
      "\n",
      "    accuracy                           1.00        73\n",
      "   macro avg       1.00      1.00      1.00        73\n",
      "weighted avg       1.00      1.00      1.00        73\n",
      "\n"
     ]
    }
   ],
   "source": [
    "# Calculate classification report\n",
    "from sklearn.metrics import classification_report\n",
    "print(classification_report(y_test, y_pred,\n",
    "                            ))"
   ]
  },
  {
   "cell_type": "code",
   "execution_count": null,
   "metadata": {},
   "outputs": [],
   "source": []
  },
  {
   "cell_type": "code",
   "execution_count": null,
   "metadata": {},
   "outputs": [],
   "source": []
  }
 ],
 "metadata": {
  "kernelspec": {
   "display_name": "Python 3",
   "language": "python",
   "name": "python3"
  },
  "language_info": {
   "codemirror_mode": {
    "name": "ipython",
    "version": 3
   },
   "file_extension": ".py",
   "mimetype": "text/x-python",
   "name": "python",
   "nbconvert_exporter": "python",
   "pygments_lexer": "ipython3",
   "version": "3.7.4"
  }
 },
 "nbformat": 4,
 "nbformat_minor": 2
}
