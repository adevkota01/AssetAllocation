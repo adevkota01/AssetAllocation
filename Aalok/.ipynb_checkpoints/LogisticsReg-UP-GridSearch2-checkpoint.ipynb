{
 "cells": [
  {
   "cell_type": "code",
   "execution_count": 1,
   "metadata": {},
   "outputs": [],
   "source": [
    "import pandas as pd\n",
    "\n",
    "import numpy as np\n",
    "import matplotlib.pyplot as plt\n",
    "\n",
    "import datetime\n",
    "\n",
    "plt.style.use('fivethirtyeight')"
   ]
  },
  {
   "cell_type": "code",
   "execution_count": 2,
   "metadata": {},
   "outputs": [
    {
     "data": {
      "text/html": [
       "<div>\n",
       "<style scoped>\n",
       "    .dataframe tbody tr th:only-of-type {\n",
       "        vertical-align: middle;\n",
       "    }\n",
       "\n",
       "    .dataframe tbody tr th {\n",
       "        vertical-align: top;\n",
       "    }\n",
       "\n",
       "    .dataframe thead th {\n",
       "        text-align: right;\n",
       "    }\n",
       "</style>\n",
       "<table border=\"1\" class=\"dataframe\">\n",
       "  <thead>\n",
       "    <tr style=\"text-align: right;\">\n",
       "      <th></th>\n",
       "      <th>Date</th>\n",
       "      <th>XLF</th>\n",
       "      <th>XLK</th>\n",
       "      <th>XLI</th>\n",
       "      <th>HY</th>\n",
       "      <th>XLY</th>\n",
       "      <th>XLU</th>\n",
       "      <th>XLP</th>\n",
       "      <th>SPY</th>\n",
       "      <th>VBMFX</th>\n",
       "      <th>Target_FR12Mts</th>\n",
       "      <th>Class</th>\n",
       "    </tr>\n",
       "  </thead>\n",
       "  <tbody>\n",
       "    <tr>\n",
       "      <td>0</td>\n",
       "      <td>12/1/1998</td>\n",
       "      <td>19.039398</td>\n",
       "      <td>32.625000</td>\n",
       "      <td>24.562500</td>\n",
       "      <td>6.44</td>\n",
       "      <td>26.125000</td>\n",
       "      <td>30.234375</td>\n",
       "      <td>27.156250</td>\n",
       "      <td>123.312500</td>\n",
       "      <td>10.27</td>\n",
       "      <td>0.19</td>\n",
       "      <td>1</td>\n",
       "    </tr>\n",
       "    <tr>\n",
       "      <td>1</td>\n",
       "      <td>1/1/1999</td>\n",
       "      <td>19.369415</td>\n",
       "      <td>37.812500</td>\n",
       "      <td>24.296875</td>\n",
       "      <td>6.52</td>\n",
       "      <td>27.468750</td>\n",
       "      <td>29.484375</td>\n",
       "      <td>26.796875</td>\n",
       "      <td>127.656250</td>\n",
       "      <td>10.30</td>\n",
       "      <td>0.09</td>\n",
       "      <td>1</td>\n",
       "    </tr>\n",
       "    <tr>\n",
       "      <td>2</td>\n",
       "      <td>2/1/1999</td>\n",
       "      <td>19.674046</td>\n",
       "      <td>34.062500</td>\n",
       "      <td>24.515625</td>\n",
       "      <td>6.46</td>\n",
       "      <td>27.296875</td>\n",
       "      <td>28.671875</td>\n",
       "      <td>26.515625</td>\n",
       "      <td>123.562500</td>\n",
       "      <td>10.07</td>\n",
       "      <td>0.11</td>\n",
       "      <td>1</td>\n",
       "    </tr>\n",
       "    <tr>\n",
       "      <td>3</td>\n",
       "      <td>3/1/1999</td>\n",
       "      <td>20.257921</td>\n",
       "      <td>36.593750</td>\n",
       "      <td>24.937500</td>\n",
       "      <td>6.57</td>\n",
       "      <td>28.593750</td>\n",
       "      <td>26.687500</td>\n",
       "      <td>26.437500</td>\n",
       "      <td>128.375000</td>\n",
       "      <td>10.06</td>\n",
       "      <td>0.17</td>\n",
       "      <td>1</td>\n",
       "    </tr>\n",
       "    <tr>\n",
       "      <td>4</td>\n",
       "      <td>4/1/1999</td>\n",
       "      <td>21.679529</td>\n",
       "      <td>36.812500</td>\n",
       "      <td>28.687500</td>\n",
       "      <td>6.80</td>\n",
       "      <td>29.343750</td>\n",
       "      <td>29.265625</td>\n",
       "      <td>25.515625</td>\n",
       "      <td>133.250000</td>\n",
       "      <td>10.05</td>\n",
       "      <td>0.09</td>\n",
       "      <td>1</td>\n",
       "    </tr>\n",
       "    <tr>\n",
       "      <td>...</td>\n",
       "      <td>...</td>\n",
       "      <td>...</td>\n",
       "      <td>...</td>\n",
       "      <td>...</td>\n",
       "      <td>...</td>\n",
       "      <td>...</td>\n",
       "      <td>...</td>\n",
       "      <td>...</td>\n",
       "      <td>...</td>\n",
       "      <td>...</td>\n",
       "      <td>...</td>\n",
       "      <td>...</td>\n",
       "    </tr>\n",
       "    <tr>\n",
       "      <td>236</td>\n",
       "      <td>8/1/2018</td>\n",
       "      <td>28.330000</td>\n",
       "      <td>75.599998</td>\n",
       "      <td>77.099998</td>\n",
       "      <td>3.44</td>\n",
       "      <td>116.949997</td>\n",
       "      <td>53.470001</td>\n",
       "      <td>53.779999</td>\n",
       "      <td>290.309998</td>\n",
       "      <td>10.44</td>\n",
       "      <td>0.01</td>\n",
       "      <td>0</td>\n",
       "    </tr>\n",
       "    <tr>\n",
       "      <td>237</td>\n",
       "      <td>9/1/2018</td>\n",
       "      <td>27.580000</td>\n",
       "      <td>75.330002</td>\n",
       "      <td>78.400002</td>\n",
       "      <td>3.44</td>\n",
       "      <td>117.220001</td>\n",
       "      <td>52.650002</td>\n",
       "      <td>53.930000</td>\n",
       "      <td>290.720001</td>\n",
       "      <td>10.36</td>\n",
       "      <td>0.02</td>\n",
       "      <td>0</td>\n",
       "    </tr>\n",
       "    <tr>\n",
       "      <td>238</td>\n",
       "      <td>10/1/2018</td>\n",
       "      <td>26.280001</td>\n",
       "      <td>69.300003</td>\n",
       "      <td>69.879997</td>\n",
       "      <td>3.37</td>\n",
       "      <td>105.379997</td>\n",
       "      <td>53.689999</td>\n",
       "      <td>55.009998</td>\n",
       "      <td>270.630005</td>\n",
       "      <td>10.26</td>\n",
       "      <td>0.12</td>\n",
       "      <td>1</td>\n",
       "    </tr>\n",
       "    <tr>\n",
       "      <td>239</td>\n",
       "      <td>11/1/2018</td>\n",
       "      <td>26.969999</td>\n",
       "      <td>67.940002</td>\n",
       "      <td>72.540001</td>\n",
       "      <td>3.31</td>\n",
       "      <td>107.989998</td>\n",
       "      <td>55.590000</td>\n",
       "      <td>56.259998</td>\n",
       "      <td>275.649994</td>\n",
       "      <td>10.29</td>\n",
       "      <td>0.14</td>\n",
       "      <td>1</td>\n",
       "    </tr>\n",
       "    <tr>\n",
       "      <td>240</td>\n",
       "      <td>12/1/2018</td>\n",
       "      <td>23.820000</td>\n",
       "      <td>61.980000</td>\n",
       "      <td>64.410004</td>\n",
       "      <td>3.22</td>\n",
       "      <td>99.010002</td>\n",
       "      <td>52.919998</td>\n",
       "      <td>50.779999</td>\n",
       "      <td>249.919998</td>\n",
       "      <td>10.45</td>\n",
       "      <td>0.29</td>\n",
       "      <td>1</td>\n",
       "    </tr>\n",
       "  </tbody>\n",
       "</table>\n",
       "<p>241 rows × 12 columns</p>\n",
       "</div>"
      ],
      "text/plain": [
       "          Date        XLF        XLK        XLI    HY         XLY        XLU  \\\n",
       "0    12/1/1998  19.039398  32.625000  24.562500  6.44   26.125000  30.234375   \n",
       "1     1/1/1999  19.369415  37.812500  24.296875  6.52   27.468750  29.484375   \n",
       "2     2/1/1999  19.674046  34.062500  24.515625  6.46   27.296875  28.671875   \n",
       "3     3/1/1999  20.257921  36.593750  24.937500  6.57   28.593750  26.687500   \n",
       "4     4/1/1999  21.679529  36.812500  28.687500  6.80   29.343750  29.265625   \n",
       "..         ...        ...        ...        ...   ...         ...        ...   \n",
       "236   8/1/2018  28.330000  75.599998  77.099998  3.44  116.949997  53.470001   \n",
       "237   9/1/2018  27.580000  75.330002  78.400002  3.44  117.220001  52.650002   \n",
       "238  10/1/2018  26.280001  69.300003  69.879997  3.37  105.379997  53.689999   \n",
       "239  11/1/2018  26.969999  67.940002  72.540001  3.31  107.989998  55.590000   \n",
       "240  12/1/2018  23.820000  61.980000  64.410004  3.22   99.010002  52.919998   \n",
       "\n",
       "           XLP         SPY  VBMFX  Target_FR12Mts  Class  \n",
       "0    27.156250  123.312500  10.27            0.19      1  \n",
       "1    26.796875  127.656250  10.30            0.09      1  \n",
       "2    26.515625  123.562500  10.07            0.11      1  \n",
       "3    26.437500  128.375000  10.06            0.17      1  \n",
       "4    25.515625  133.250000  10.05            0.09      1  \n",
       "..         ...         ...    ...             ...    ...  \n",
       "236  53.779999  290.309998  10.44            0.01      0  \n",
       "237  53.930000  290.720001  10.36            0.02      0  \n",
       "238  55.009998  270.630005  10.26            0.12      1  \n",
       "239  56.259998  275.649994  10.29            0.14      1  \n",
       "240  50.779999  249.919998  10.45            0.29      1  \n",
       "\n",
       "[241 rows x 12 columns]"
      ]
     },
     "execution_count": 2,
     "metadata": {},
     "output_type": "execute_result"
    }
   ],
   "source": [
    "sector_data = pd.read_csv (r'DataForClustering_Classification_UP.csv')\n",
    "sector_data"
   ]
  },
  {
   "cell_type": "code",
   "execution_count": 3,
   "metadata": {},
   "outputs": [
    {
     "data": {
      "text/html": [
       "<div>\n",
       "<style scoped>\n",
       "    .dataframe tbody tr th:only-of-type {\n",
       "        vertical-align: middle;\n",
       "    }\n",
       "\n",
       "    .dataframe tbody tr th {\n",
       "        vertical-align: top;\n",
       "    }\n",
       "\n",
       "    .dataframe thead th {\n",
       "        text-align: right;\n",
       "    }\n",
       "</style>\n",
       "<table border=\"1\" class=\"dataframe\">\n",
       "  <thead>\n",
       "    <tr style=\"text-align: right;\">\n",
       "      <th></th>\n",
       "      <th>XLF</th>\n",
       "      <th>XLK</th>\n",
       "      <th>XLI</th>\n",
       "      <th>HY</th>\n",
       "      <th>XLY</th>\n",
       "      <th>XLU</th>\n",
       "      <th>XLP</th>\n",
       "      <th>SPY</th>\n",
       "      <th>VBMFX</th>\n",
       "      <th>Class</th>\n",
       "    </tr>\n",
       "  </thead>\n",
       "  <tbody>\n",
       "    <tr>\n",
       "      <td>0</td>\n",
       "      <td>19.039398</td>\n",
       "      <td>32.625000</td>\n",
       "      <td>24.562500</td>\n",
       "      <td>6.44</td>\n",
       "      <td>26.125000</td>\n",
       "      <td>30.234375</td>\n",
       "      <td>27.156250</td>\n",
       "      <td>123.312500</td>\n",
       "      <td>10.27</td>\n",
       "      <td>1</td>\n",
       "    </tr>\n",
       "    <tr>\n",
       "      <td>1</td>\n",
       "      <td>19.369415</td>\n",
       "      <td>37.812500</td>\n",
       "      <td>24.296875</td>\n",
       "      <td>6.52</td>\n",
       "      <td>27.468750</td>\n",
       "      <td>29.484375</td>\n",
       "      <td>26.796875</td>\n",
       "      <td>127.656250</td>\n",
       "      <td>10.30</td>\n",
       "      <td>1</td>\n",
       "    </tr>\n",
       "    <tr>\n",
       "      <td>2</td>\n",
       "      <td>19.674046</td>\n",
       "      <td>34.062500</td>\n",
       "      <td>24.515625</td>\n",
       "      <td>6.46</td>\n",
       "      <td>27.296875</td>\n",
       "      <td>28.671875</td>\n",
       "      <td>26.515625</td>\n",
       "      <td>123.562500</td>\n",
       "      <td>10.07</td>\n",
       "      <td>1</td>\n",
       "    </tr>\n",
       "    <tr>\n",
       "      <td>3</td>\n",
       "      <td>20.257921</td>\n",
       "      <td>36.593750</td>\n",
       "      <td>24.937500</td>\n",
       "      <td>6.57</td>\n",
       "      <td>28.593750</td>\n",
       "      <td>26.687500</td>\n",
       "      <td>26.437500</td>\n",
       "      <td>128.375000</td>\n",
       "      <td>10.06</td>\n",
       "      <td>1</td>\n",
       "    </tr>\n",
       "    <tr>\n",
       "      <td>4</td>\n",
       "      <td>21.679529</td>\n",
       "      <td>36.812500</td>\n",
       "      <td>28.687500</td>\n",
       "      <td>6.80</td>\n",
       "      <td>29.343750</td>\n",
       "      <td>29.265625</td>\n",
       "      <td>25.515625</td>\n",
       "      <td>133.250000</td>\n",
       "      <td>10.05</td>\n",
       "      <td>1</td>\n",
       "    </tr>\n",
       "    <tr>\n",
       "      <td>...</td>\n",
       "      <td>...</td>\n",
       "      <td>...</td>\n",
       "      <td>...</td>\n",
       "      <td>...</td>\n",
       "      <td>...</td>\n",
       "      <td>...</td>\n",
       "      <td>...</td>\n",
       "      <td>...</td>\n",
       "      <td>...</td>\n",
       "      <td>...</td>\n",
       "    </tr>\n",
       "    <tr>\n",
       "      <td>236</td>\n",
       "      <td>28.330000</td>\n",
       "      <td>75.599998</td>\n",
       "      <td>77.099998</td>\n",
       "      <td>3.44</td>\n",
       "      <td>116.949997</td>\n",
       "      <td>53.470001</td>\n",
       "      <td>53.779999</td>\n",
       "      <td>290.309998</td>\n",
       "      <td>10.44</td>\n",
       "      <td>0</td>\n",
       "    </tr>\n",
       "    <tr>\n",
       "      <td>237</td>\n",
       "      <td>27.580000</td>\n",
       "      <td>75.330002</td>\n",
       "      <td>78.400002</td>\n",
       "      <td>3.44</td>\n",
       "      <td>117.220001</td>\n",
       "      <td>52.650002</td>\n",
       "      <td>53.930000</td>\n",
       "      <td>290.720001</td>\n",
       "      <td>10.36</td>\n",
       "      <td>0</td>\n",
       "    </tr>\n",
       "    <tr>\n",
       "      <td>238</td>\n",
       "      <td>26.280001</td>\n",
       "      <td>69.300003</td>\n",
       "      <td>69.879997</td>\n",
       "      <td>3.37</td>\n",
       "      <td>105.379997</td>\n",
       "      <td>53.689999</td>\n",
       "      <td>55.009998</td>\n",
       "      <td>270.630005</td>\n",
       "      <td>10.26</td>\n",
       "      <td>1</td>\n",
       "    </tr>\n",
       "    <tr>\n",
       "      <td>239</td>\n",
       "      <td>26.969999</td>\n",
       "      <td>67.940002</td>\n",
       "      <td>72.540001</td>\n",
       "      <td>3.31</td>\n",
       "      <td>107.989998</td>\n",
       "      <td>55.590000</td>\n",
       "      <td>56.259998</td>\n",
       "      <td>275.649994</td>\n",
       "      <td>10.29</td>\n",
       "      <td>1</td>\n",
       "    </tr>\n",
       "    <tr>\n",
       "      <td>240</td>\n",
       "      <td>23.820000</td>\n",
       "      <td>61.980000</td>\n",
       "      <td>64.410004</td>\n",
       "      <td>3.22</td>\n",
       "      <td>99.010002</td>\n",
       "      <td>52.919998</td>\n",
       "      <td>50.779999</td>\n",
       "      <td>249.919998</td>\n",
       "      <td>10.45</td>\n",
       "      <td>1</td>\n",
       "    </tr>\n",
       "  </tbody>\n",
       "</table>\n",
       "<p>241 rows × 10 columns</p>\n",
       "</div>"
      ],
      "text/plain": [
       "           XLF        XLK        XLI    HY         XLY        XLU        XLP  \\\n",
       "0    19.039398  32.625000  24.562500  6.44   26.125000  30.234375  27.156250   \n",
       "1    19.369415  37.812500  24.296875  6.52   27.468750  29.484375  26.796875   \n",
       "2    19.674046  34.062500  24.515625  6.46   27.296875  28.671875  26.515625   \n",
       "3    20.257921  36.593750  24.937500  6.57   28.593750  26.687500  26.437500   \n",
       "4    21.679529  36.812500  28.687500  6.80   29.343750  29.265625  25.515625   \n",
       "..         ...        ...        ...   ...         ...        ...        ...   \n",
       "236  28.330000  75.599998  77.099998  3.44  116.949997  53.470001  53.779999   \n",
       "237  27.580000  75.330002  78.400002  3.44  117.220001  52.650002  53.930000   \n",
       "238  26.280001  69.300003  69.879997  3.37  105.379997  53.689999  55.009998   \n",
       "239  26.969999  67.940002  72.540001  3.31  107.989998  55.590000  56.259998   \n",
       "240  23.820000  61.980000  64.410004  3.22   99.010002  52.919998  50.779999   \n",
       "\n",
       "            SPY  VBMFX  Class  \n",
       "0    123.312500  10.27      1  \n",
       "1    127.656250  10.30      1  \n",
       "2    123.562500  10.07      1  \n",
       "3    128.375000  10.06      1  \n",
       "4    133.250000  10.05      1  \n",
       "..          ...    ...    ...  \n",
       "236  290.309998  10.44      0  \n",
       "237  290.720001  10.36      0  \n",
       "238  270.630005  10.26      1  \n",
       "239  275.649994  10.29      1  \n",
       "240  249.919998  10.45      1  \n",
       "\n",
       "[241 rows x 10 columns]"
      ]
     },
     "execution_count": 3,
     "metadata": {},
     "output_type": "execute_result"
    }
   ],
   "source": [
    "dataset = sector_data.drop(['Date','Target_FR12Mts'],axis=1)\n",
    "dataset"
   ]
  },
  {
   "cell_type": "code",
   "execution_count": 4,
   "metadata": {},
   "outputs": [],
   "source": [
    "import statsmodels.api as sm"
   ]
  },
  {
   "cell_type": "code",
   "execution_count": 5,
   "metadata": {},
   "outputs": [],
   "source": [
    "X = dataset.drop('Class', 1)\n",
    "y = dataset['Class']"
   ]
  },
  {
   "cell_type": "code",
   "execution_count": 6,
   "metadata": {},
   "outputs": [
    {
     "name": "stdout",
     "output_type": "stream",
     "text": [
      "Optimization terminated successfully.\n",
      "         Current function value: 0.531121\n",
      "         Iterations 6\n",
      "                         Results: Logit\n",
      "=================================================================\n",
      "Model:              Logit            Pseudo R-squared: 0.233     \n",
      "Dependent Variable: Class            AIC:              274.0001  \n",
      "Date:               2020-02-13 22:26 BIC:              305.3633  \n",
      "No. Observations:   241              Log-Likelihood:   -128.00   \n",
      "Df Model:           8                LL-Null:          -166.80   \n",
      "Df Residuals:       232              LLR p-value:      1.4886e-13\n",
      "Converged:          1.0000           Scale:            1.0000    \n",
      "No. Iterations:     6.0000                                       \n",
      "-------------------------------------------------------------------\n",
      "           Coef.    Std.Err.      z      P>|z|     [0.025    0.975]\n",
      "-------------------------------------------------------------------\n",
      "XLF       -0.0697     0.0769   -0.9057   0.3651   -0.2204    0.0811\n",
      "XLK        0.0794     0.0751    1.0578   0.2901   -0.0677    0.2265\n",
      "XLI       -0.0789     0.1200   -0.6573   0.5110   -0.3140    0.1563\n",
      "HY         1.0371     0.3886    2.6687   0.0076    0.2754    1.7988\n",
      "XLY        0.3134     0.0699    4.4823   0.0000    0.1764    0.4505\n",
      "XLU        0.1923     0.0803    2.3953   0.0166    0.0350    0.3497\n",
      "XLP        0.1147     0.0813    1.4111   0.1582   -0.0446    0.2740\n",
      "SPY       -0.1956     0.0829   -2.3591   0.0183   -0.3580   -0.0331\n",
      "VBMFX      0.1775     0.1397    1.2711   0.2037   -0.0962    0.4512\n",
      "=================================================================\n",
      "\n"
     ]
    }
   ],
   "source": [
    "logit_model=sm.Logit(y,X)\n",
    "result=logit_model.fit()\n",
    "print(result.summary2())\n"
   ]
  },
  {
   "cell_type": "code",
   "execution_count": 40,
   "metadata": {},
   "outputs": [
    {
     "name": "stdout",
     "output_type": "stream",
     "text": [
      "Optimization terminated successfully.\n",
      "         Current function value: 0.533016\n",
      "         Iterations 6\n",
      "                         Results: Logit\n",
      "=================================================================\n",
      "Model:              Logit            Pseudo R-squared: 0.230     \n",
      "Dependent Variable: Class            AIC:              270.9135  \n",
      "Date:               2020-02-13 22:29 BIC:              295.3071  \n",
      "No. Observations:   241              Log-Likelihood:   -128.46   \n",
      "Df Model:           6                LL-Null:          -166.80   \n",
      "Df Residuals:       234              LLR p-value:      1.7291e-14\n",
      "Converged:          1.0000           Scale:            1.0000    \n",
      "No. Iterations:     6.0000                                       \n",
      "-------------------------------------------------------------------\n",
      "           Coef.    Std.Err.      z      P>|z|     [0.025    0.975]\n",
      "-------------------------------------------------------------------\n",
      "XLK        0.1366     0.0443    3.0815   0.0021    0.0497    0.2235\n",
      "HY         0.9744     0.3252    2.9962   0.0027    0.3370    1.6117\n",
      "XLY        0.3215     0.0691    4.6503   0.0000    0.1860    0.4571\n",
      "XLU        0.2036     0.0796    2.5575   0.0105    0.0476    0.3596\n",
      "XLP        0.1608     0.0647    2.4861   0.0129    0.0340    0.2875\n",
      "SPY       -0.2533     0.0516   -4.9105   0.0000   -0.3544   -0.1522\n",
      "VBMFX      0.2148     0.1339    1.6039   0.1087   -0.0477    0.4773\n",
      "=================================================================\n",
      "\n"
     ]
    }
   ],
   "source": [
    "dataset2 = sector_data.drop(['XLI','XLF','Date','Target_FR12Mts'],axis=1)\n",
    "X = dataset2.drop('Class', 1)\n",
    "y = dataset2['Class']\n",
    "\n",
    "logit_model=sm.Logit(y,X)\n",
    "result=logit_model.fit()\n",
    "print(result.summary2())"
   ]
  },
  {
   "cell_type": "code",
   "execution_count": null,
   "metadata": {},
   "outputs": [],
   "source": []
  },
  {
   "cell_type": "code",
   "execution_count": null,
   "metadata": {},
   "outputs": [],
   "source": [
    "\n"
   ]
  },
  {
   "cell_type": "code",
   "execution_count": 48,
   "metadata": {},
   "outputs": [],
   "source": [
    "from sklearn.linear_model import LogisticRegression\n",
    "from sklearn.model_selection import train_test_split\n",
    "from sklearn import metrics\n",
    "\n",
    "X_train, X_test, y_train, y_test = train_test_split(X, y, test_size=0.3, random_state=42)"
   ]
  },
  {
   "cell_type": "code",
   "execution_count": 52,
   "metadata": {},
   "outputs": [
    {
     "name": "stderr",
     "output_type": "stream",
     "text": [
      "C:\\Users\\Aalok Devkota\\Anaconda3\\lib\\site-packages\\sklearn\\model_selection\\_split.py:1978: FutureWarning: The default value of cv will change from 3 to 5 in version 0.22. Specify it explicitly to silence this warning.\n",
      "  warnings.warn(CV_WARNING, FutureWarning)\n",
      "C:\\Users\\Aalok Devkota\\Anaconda3\\lib\\site-packages\\sklearn\\model_selection\\_search.py:814: DeprecationWarning: The default of the `iid` parameter will change from True to False in version 0.22 and will be removed in 0.24. This will change numeric results when test-set sizes are unequal.\n",
      "  DeprecationWarning)\n"
     ]
    },
    {
     "data": {
      "text/plain": [
       "{'C': 2, 'penalty': 'l1'}"
      ]
     },
     "execution_count": 52,
     "metadata": {},
     "output_type": "execute_result"
    }
   ],
   "source": [
    "\n",
    "from sklearn.linear_model import LogisticRegression\n",
    "from sklearn.model_selection import RandomizedSearchCV\n",
    "from scipy.stats import uniform\n",
    "\n",
    "logistic = LogisticRegression(solver='saga', tol=1e-2, max_iter=200, random_state=0)\n",
    "distributions = dict(C=uniform(loc=0, scale=4), penalty=['l2', 'l1'])\n",
    "clf = RandomizedSearchCV(logistic, distributions, random_state=0)\n",
    "search = clf.fit(X_train, y_train)\n",
    "search.best_params_\n",
    "{'C': 2, 'penalty': 'l1'}"
   ]
  },
  {
   "cell_type": "code",
   "execution_count": null,
   "metadata": {},
   "outputs": [],
   "source": []
  },
  {
   "cell_type": "code",
   "execution_count": 54,
   "metadata": {},
   "outputs": [
    {
     "name": "stderr",
     "output_type": "stream",
     "text": [
      "C:\\Users\\Aalok Devkota\\Anaconda3\\lib\\site-packages\\sklearn\\linear_model\\logistic.py:432: FutureWarning: Default solver will be changed to 'lbfgs' in 0.22. Specify a solver to silence this warning.\n",
      "  FutureWarning)\n",
      "C:\\Users\\Aalok Devkota\\Anaconda3\\lib\\site-packages\\sklearn\\svm\\base.py:929: ConvergenceWarning: Liblinear failed to converge, increase the number of iterations.\n",
      "  \"the number of iterations.\", ConvergenceWarning)\n"
     ]
    },
    {
     "data": {
      "text/plain": [
       "LogisticRegression(C=2, class_weight=None, dual=False, fit_intercept=True,\n",
       "                   intercept_scaling=1, l1_ratio=None, max_iter=100,\n",
       "                   multi_class='warn', n_jobs=None, penalty='l1',\n",
       "                   random_state=None, solver='warn', tol=0.0001, verbose=0,\n",
       "                   warm_start=False)"
      ]
     },
     "execution_count": 54,
     "metadata": {},
     "output_type": "execute_result"
    }
   ],
   "source": [
    "\n",
    "logreg = LogisticRegression(C=2, penalty ='l1' )\n",
    "logreg.fit(X_train, y_train)"
   ]
  },
  {
   "cell_type": "code",
   "execution_count": 55,
   "metadata": {},
   "outputs": [
    {
     "name": "stdout",
     "output_type": "stream",
     "text": [
      "Accuracy of logistic regression classifier on test set: 0.7260\n"
     ]
    }
   ],
   "source": [
    "y_pred = logreg.predict(X_test)\n",
    "print('Accuracy of logistic regression classifier on test set: {:.4f}'.format(logreg.score(X_test, y_test)))"
   ]
  },
  {
   "cell_type": "code",
   "execution_count": 56,
   "metadata": {},
   "outputs": [
    {
     "data": {
      "text/plain": [
       "0.8393393393393394"
      ]
     },
     "execution_count": 56,
     "metadata": {},
     "output_type": "execute_result"
    }
   ],
   "source": [
    "# Actual class predictions\n",
    "logreg_predictions = logreg.predict(X_test)\n",
    "# Probabilities for each class\n",
    "logreg_probs = logreg.predict_proba(X_test)[:, 1]\n",
    "\n",
    "from sklearn.metrics import roc_auc_score\n",
    "\n",
    "# Calculate roc auc\n",
    "roc_value = roc_auc_score(y_test, logreg_probs)\n",
    "roc_value"
   ]
  },
  {
   "cell_type": "code",
   "execution_count": 57,
   "metadata": {},
   "outputs": [
    {
     "name": "stdout",
     "output_type": "stream",
     "text": [
      "[[26 10]\n",
      " [10 27]]\n"
     ]
    }
   ],
   "source": [
    "from sklearn.metrics import confusion_matrix\n",
    "confusion_matrix = confusion_matrix(y_test, y_pred)\n",
    "print(confusion_matrix)"
   ]
  },
  {
   "cell_type": "code",
   "execution_count": 27,
   "metadata": {},
   "outputs": [
    {
     "name": "stdout",
     "output_type": "stream",
     "text": [
      "              precision    recall  f1-score   support\n",
      "\n",
      "           0       0.72      0.72      0.72        36\n",
      "           1       0.73      0.73      0.73        37\n",
      "\n",
      "    accuracy                           0.73        73\n",
      "   macro avg       0.73      0.73      0.73        73\n",
      "weighted avg       0.73      0.73      0.73        73\n",
      "\n"
     ]
    }
   ],
   "source": [
    "from sklearn.metrics import classification_report\n",
    "print(classification_report(y_test, y_pred))"
   ]
  },
  {
   "cell_type": "code",
   "execution_count": 14,
   "metadata": {},
   "outputs": [
    {
     "data": {
      "image/png": "[encoded data removed]",
      "text/plain": [
       "<Figure size 432x288 with 1 Axes>"
      ]
     },
     "metadata": {
      "needs_background": "light"
     },
     "output_type": "display_data"
    }
   ],
   "source": [
    "from sklearn.metrics import roc_auc_score\n",
    "from sklearn.metrics import roc_curve\n",
    "logit_roc_auc = roc_auc_score(y_test, logreg.predict(X_test))\n",
    "fpr, tpr, thresholds = roc_curve(y_test, logreg.predict_proba(X_test)[:,1])\n",
    "plt.figure()\n",
    "plt.plot(fpr, tpr, label='Logistic Regression (area = %0.2f)' % logit_roc_auc)\n",
    "plt.plot([0, 1], [0, 1],'r--')\n",
    "plt.xlim([0.0, 1.0])\n",
    "plt.ylim([0.0, 1.05])\n",
    "plt.xlabel('False Positive Rate')\n",
    "plt.ylabel('True Positive Rate')\n",
    "plt.title('Maket Up>10% 12Mts Frwd')\n",
    "plt.legend(loc=\"lower right\")\n",
    "\n",
    "plt.show()"
   ]
  },
  {
   "cell_type": "code",
   "execution_count": null,
   "metadata": {},
   "outputs": [],
   "source": []
  },
  {
   "cell_type": "code",
   "execution_count": null,
   "metadata": {},
   "outputs": [],
   "source": []
  },
  {
   "cell_type": "code",
   "execution_count": null,
   "metadata": {},
   "outputs": [],
   "source": []
  }
 ],
 "metadata": {
  "kernelspec": {
   "display_name": "Python 3",
   "language": "python",
   "name": "python3"
  },
  "language_info": {
   "codemirror_mode": {
    "name": "ipython",
    "version": 3
   },
   "file_extension": ".py",
   "mimetype": "text/x-python",
   "name": "python",
   "nbconvert_exporter": "python",
   "pygments_lexer": "ipython3",
   "version": "3.7.4"
  }
 },
 "nbformat": 4,
 "nbformat_minor": 2
}
